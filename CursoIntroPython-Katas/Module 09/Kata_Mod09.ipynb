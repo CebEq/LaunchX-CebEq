{
 "cells": [
  {
   "cell_type": "markdown",
   "metadata": {},
   "source": [
    "# Módulo 09 - Funciones"
   ]
  },
  {
   "cell_type": "markdown",
   "metadata": {},
   "source": [
    "## 1. Trabajar con argumentos en funciones"
   ]
  },
  {
   "cell_type": "markdown",
   "metadata": {},
   "source": [
    "Comienza por crear una función que necesite tres lecturas de combustible y devuelva un informe:"
   ]
  },
  {
   "cell_type": "code",
   "execution_count": 1,
   "metadata": {},
   "outputs": [],
   "source": [
    "def fuel_report(fuel_01, fuel_02, fuel_03):\n",
    "    average = (fuel_01 + fuel_02 + fuel_03) / 3\n",
    "    return f\"\"\"Fuel report:\n",
    "    Average fuel: {average}%\n",
    "    First tank: {fuel_01}%\n",
    "    Second tank: {fuel_02}%\n",
    "    Third tank: {fuel_03}%\n",
    "    \"\"\""
   ]
  },
  {
   "cell_type": "markdown",
   "metadata": {},
   "source": [
    "Ahora que hemos definido la función de informes, vamos a comprobarlo. Para esta misión, los tanques no están llenos:"
   ]
  },
  {
   "cell_type": "code",
   "execution_count": 2,
   "metadata": {},
   "outputs": [
    {
     "name": "stdout",
     "output_type": "stream",
     "text": [
      "Fuel report:\n",
      "    Average fuel: 40.333333333333336%\n",
      "    First tank: 15%\n",
      "    Second tank: 60%\n",
      "    Third tank: 46%\n",
      "    \n"
     ]
    }
   ],
   "source": [
    "print(fuel_report(15, 60, 46))"
   ]
  },
  {
   "cell_type": "markdown",
   "metadata": {},
   "source": [
    "En lugar de simplemente crear el informe, la función también está calculando el promedio. Mejora la legibilidad extrayendo el cálculo promedio de la función en una nueva función para que el promedio se pueda hacer de forma independiente:"
   ]
  },
  {
   "cell_type": "code",
   "execution_count": 3,
   "metadata": {},
   "outputs": [],
   "source": [
    "def average_fuel(values):\n",
    "    return sum(values) / len(values)"
   ]
  },
  {
   "cell_type": "markdown",
   "metadata": {},
   "source": [
    "Ahora actualiza la función de informes para llamando a la nueva función del promedio:"
   ]
  },
  {
   "cell_type": "code",
   "execution_count": 4,
   "metadata": {},
   "outputs": [],
   "source": [
    "def fuel_report(fuel_01, fuel_02, fuel_03):\n",
    "    return f\"\"\"Fuel report:\n",
    "    Average fuel: {average_fuel([fuel_01, fuel_02, fuel_03])}%\n",
    "    First tank: {fuel_01}%\n",
    "    Second tank: {fuel_02}%\n",
    "    Third tank: {fuel_03}%\n",
    "    \"\"\""
   ]
  },
  {
   "cell_type": "code",
   "execution_count": 5,
   "metadata": {},
   "outputs": [
    {
     "name": "stdout",
     "output_type": "stream",
     "text": [
      "Fuel report:\n",
      "    Average fuel: 62.666666666666664%\n",
      "    First tank: 82%\n",
      "    Second tank: 49%\n",
      "    Third tank: 57%\n",
      "    \n"
     ]
    }
   ],
   "source": [
    "print(fuel_report(82, 49, 57))"
   ]
  },
  {
   "cell_type": "markdown",
   "metadata": {},
   "source": [
    "## 2. Trabajo con argumentos de palabra clave"
   ]
  },
  {
   "cell_type": "markdown",
   "metadata": {},
   "source": [
    "En este ejercicio, construirás un informe de cohete que requiere varias piezas de información, como el tiempo hasta el destino, el combustible a la izquierda y el nombre del destino. Comienza por crear una función que creará un informe preciso de la misión:"
   ]
  },
  {
   "cell_type": "code",
   "execution_count": 6,
   "metadata": {},
   "outputs": [
    {
     "name": "stdout",
     "output_type": "stream",
     "text": [
      "\n",
      "    Mission to Mars\n",
      "    ----------------------------------------------------------------------\n",
      "    Total travel time: 1988 minutes\n",
      "    Total fuel left: 3050000 gallons\n",
      "    \n"
     ]
    }
   ],
   "source": [
    "def mission_report(pre_launch_time, flight_time, destination, external_tank, main_tank):\n",
    "    return f\"\"\"\n",
    "    Mission to {destination}\n",
    "    {'-'*70}\n",
    "    Total travel time: {pre_launch_time + flight_time} minutes\n",
    "    Total fuel left: {external_tank + main_tank} gallons\n",
    "    \"\"\"\n",
    "\n",
    "print(mission_report(138, 1850, \"Mars\", 150000, 2900000))"
   ]
  },
  {
   "cell_type": "markdown",
   "metadata": {},
   "source": [
    "La función es problemática porque no se puede adaptar para minutos adicionales o tanques adicionales de combustible. Hazlo más flexible permitiendo cualquier número de pasos basados en el tiempo y cualquier número de tanques. En lugar de usar `*args` y `**kwargs`, aprovecha el hecho de que puedes usar cualquier nombre que desees. Asegurate que la función sea más legible mediante el uso de nombres de variables que están asociados con las entradas, como `*minutes` y `**fuel_reservoirs`:"
   ]
  },
  {
   "cell_type": "code",
   "execution_count": 7,
   "metadata": {},
   "outputs": [
    {
     "name": "stdout",
     "output_type": "stream",
     "text": [
      "\n",
      "    Mission to Mars\n",
      "    ----------------------------------------------------------------------\n",
      "    Total travel time: 2145 minutes\n",
      "    Total fuel left: 3050000\n",
      "    \n"
     ]
    }
   ],
   "source": [
    "def mission_report(destination, *minutes, **fuel_reservoirs):\n",
    "    return f\"\"\"\n",
    "    Mission to {destination}\n",
    "    {'-'*70}\n",
    "    Total travel time: {sum(minutes)} minutes\n",
    "    Total fuel left: {sum(fuel_reservoirs.values())}\n",
    "    \"\"\"\n",
    "\n",
    "print(mission_report(\"Mars\", 138, 1850, 157, main = 150000, external = 2900000))"
   ]
  },
  {
   "cell_type": "markdown",
   "metadata": {},
   "source": [
    "Debido a que el combustible que queda en los tanques es específico de cada tanque, actualiza la función para usar el nombre de cada tanque en el informe:"
   ]
  },
  {
   "cell_type": "code",
   "execution_count": 8,
   "metadata": {},
   "outputs": [
    {
     "name": "stdout",
     "output_type": "stream",
     "text": [
      "\n",
      "    Mission to Mars\n",
      "    ----------------------------------------------------------------------\n",
      "    Total travel time: 2145 minutes\n",
      "    Total fuel left: 3050000\n",
      "    \tMain tank: 150000 gallons left\n",
      "\tExternal tank: 2900000 gallons left\n",
      "\n"
     ]
    }
   ],
   "source": [
    "def mission_report(destination, *minutes, **fuel_reservoirs):\n",
    "    report = f\"\"\"\n",
    "    Mission to {destination}\n",
    "    {'-'*70}\n",
    "    Total travel time: {sum(minutes)} minutes\n",
    "    Total fuel left: {sum(fuel_reservoirs.values())}\n",
    "    \"\"\"\n",
    "\n",
    "    for tank, fuel in fuel_reservoirs.items():\n",
    "        report += f\"\\t{tank} tank: {fuel} gallons left\\n\"\n",
    "    \n",
    "    return report\n",
    "\n",
    "print(mission_report(\"Mars\", 138, 1850, 157, Main = 150000, External = 2900000))"
   ]
  }
 ],
 "metadata": {
  "interpreter": {
   "hash": "faae698bfc8c6cc11fe5790df996d1c247e91262f654eef44c30b1816cf78a52"
  },
  "kernelspec": {
   "display_name": "Python 3.10.2 64-bit",
   "language": "python",
   "name": "python3"
  },
  "language_info": {
   "codemirror_mode": {
    "name": "ipython",
    "version": 3
   },
   "file_extension": ".py",
   "mimetype": "text/x-python",
   "name": "python",
   "nbconvert_exporter": "python",
   "pygments_lexer": "ipython3",
   "version": "3.10.2"
  },
  "orig_nbformat": 4
 },
 "nbformat": 4,
 "nbformat_minor": 2
}
