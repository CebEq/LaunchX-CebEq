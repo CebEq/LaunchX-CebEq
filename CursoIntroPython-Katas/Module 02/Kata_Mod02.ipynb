{
 "cells": [
  {
   "cell_type": "markdown",
   "metadata": {},
   "source": [
    "# Módulo 2 - Crear y administrar proyectos"
   ]
  }
 ],
 "metadata": {
  "language_info": {
   "name": "python"
  },
  "orig_nbformat": 4
 },
 "nbformat": 4,
 "nbformat_minor": 2
}
